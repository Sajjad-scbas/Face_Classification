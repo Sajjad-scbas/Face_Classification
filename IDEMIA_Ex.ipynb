{
 "cells": [
  {
   "cell_type": "code",
   "execution_count": 2,
   "metadata": {},
   "outputs": [],
   "source": [
    "import numpy as np\n",
    "import matplotlib.pyplot as plt\n",
    "\n",
    "import torch\n",
    "import torch.nn as nn\n",
    "\n",
    "from model.model import SwinTransformer\n",
    "from data.dataset import CustomDataset\n",
    "\n",
    "from sklearn.model_selection import train_test_split\n",
    "\n",
    "from torch.utils.tensorboard import SummaryWriter\n",
    "from train.train import train_loop, test_loop\n"
   ]
  },
  {
   "cell_type": "code",
   "execution_count": 3,
   "metadata": {},
   "outputs": [],
   "source": [
    "\n",
    "file_path = '/Users/scbas/Downloads/IdemiaExerciceML/data'\n",
    "\n",
    "labels = 'label_train.txt'\n",
    "\n",
    "\n",
    "nb_images = 111430\n",
    "width = 56  # Replace with the actual image width\n",
    "height = 56  # Replace with the actual image height\n",
    "channels = 3\n",
    "\n",
    "with open(f\"{file_path}/db_train.raw\", 'rb') as file:\n",
    "    train_data = file.read()\n",
    "labels = np.loadtxt(f\"{file_path}/label_train.txt\")\n",
    "\n",
    "\n",
    "# Assuming the data represents a grayscale image\n",
    "data = np.frombuffer(train_data, dtype=np.uint8).reshape(nb_images, height, width, channels)\n",
    "\n"
   ]
  },
  {
   "cell_type": "code",
   "execution_count": 5,
   "metadata": {},
   "outputs": [
    {
     "name": "stdout",
     "output_type": "stream",
     "text": [
      "Number of 0s: 15250\n",
      "Number of 1s: 96180\n"
     ]
    }
   ],
   "source": [
    "count_0 = np.sum(labels == 0)\n",
    "count_1 = np.sum(labels == 1)\n",
    "\n",
    "print(f\"Number of 0s: {count_0}\")\n",
    "print(f\"Number of 1s: {count_1}\")\n"
   ]
  },
  {
   "cell_type": "code",
   "execution_count": 4,
   "metadata": {},
   "outputs": [],
   "source": [
    "train_data, val_data, train_lab, val_lab = train_test_split(data, labels, test_size=10130/111430) "
   ]
  },
  {
   "cell_type": "code",
   "execution_count": 7,
   "metadata": {},
   "outputs": [
    {
     "ename": "NameError",
     "evalue": "name 'train_labels' is not defined",
     "output_type": "error",
     "traceback": [
      "\u001b[0;31m---------------------------------------------------------------------------\u001b[0m",
      "\u001b[0;31mNameError\u001b[0m                                 Traceback (most recent call last)",
      "\u001b[0;32m/var/folders/ns/9pn3g4gn09s4qsz_80v265wr0000gn/T/ipykernel_61355/2051689827.py\u001b[0m in \u001b[0;36m<module>\u001b[0;34m\u001b[0m\n\u001b[1;32m      1\u001b[0m \u001b[0;31m#Display the image using matplotlib\u001b[0m\u001b[0;34m\u001b[0m\u001b[0;34m\u001b[0m\u001b[0m\n\u001b[1;32m      2\u001b[0m \u001b[0;34m\u001b[0m\u001b[0m\n\u001b[0;32m----> 3\u001b[0;31m \u001b[0mwhere_0\u001b[0m \u001b[0;34m=\u001b[0m \u001b[0mnp\u001b[0m\u001b[0;34m.\u001b[0m\u001b[0mwhere\u001b[0m\u001b[0;34m(\u001b[0m\u001b[0mtrain_labels\u001b[0m \u001b[0;34m==\u001b[0m \u001b[0;36m0\u001b[0m\u001b[0;34m)\u001b[0m\u001b[0;34m[\u001b[0m\u001b[0;36m0\u001b[0m\u001b[0;34m]\u001b[0m\u001b[0;34m\u001b[0m\u001b[0;34m\u001b[0m\u001b[0m\n\u001b[0m\u001b[1;32m      4\u001b[0m \u001b[0mwhere_1\u001b[0m \u001b[0;34m=\u001b[0m \u001b[0mnp\u001b[0m\u001b[0;34m.\u001b[0m\u001b[0mwhere\u001b[0m\u001b[0;34m(\u001b[0m\u001b[0mtrain_labels\u001b[0m \u001b[0;34m==\u001b[0m \u001b[0;36m1\u001b[0m\u001b[0;34m)\u001b[0m\u001b[0;34m[\u001b[0m\u001b[0;36m0\u001b[0m\u001b[0;34m]\u001b[0m\u001b[0;34m\u001b[0m\u001b[0;34m\u001b[0m\u001b[0m\n\u001b[1;32m      5\u001b[0m \u001b[0;34m\u001b[0m\u001b[0m\n",
      "\u001b[0;31mNameError\u001b[0m: name 'train_labels' is not defined"
     ]
    }
   ],
   "source": [
    "#Display the image using matplotlib\n",
    "\n",
    "where_0 = np.where(train_labels == 0)[0]\n",
    "where_1 = np.where(train_labels == 1)[0]\n",
    "\n",
    "fig = plt.figure(figsize=(10,20))\n",
    "idx = 1\n",
    "nb_ph = 5\n",
    "for label0, label1 in zip(where_0[:nb_ph], where_1[:nb_ph]):\n",
    "    ax = fig.add_subplot(nb_ph, 2, idx)\n",
    "    plt.imshow(train_data[label0])\n",
    "    idx+=1\n",
    "    ax = fig.add_subplot(nb_ph, 2, idx)\n",
    "    plt.imshow(train_data[label1])\n",
    "    idx+=1\n",
    "plt.show()\n",
    "\n"
   ]
  },
  {
   "cell_type": "code",
   "execution_count": 5,
   "metadata": {},
   "outputs": [],
   "source": [
    "device = torch.device(\"cuda\" if torch.cuda.is_available() else \"cpu\")\n",
    "dtype = torch.float32   \n",
    "    \n",
    "parameters = {\n",
    "        'kernel_size' : (4, 4),\n",
    "        'hidden_emb' : 48, \n",
    "        'nb_classes' : 2, \n",
    "        'nb_channels' : 3, \n",
    "        'data_size' : (56, 56), \n",
    "        'norm_layer' : nn.LayerNorm,\n",
    "        'loss' : nn.BCELoss(),\n",
    "\n",
    "        'num_layers' : 2,\n",
    "        'num_heads' : 3,\n",
    "        'head_dim' : 16, \n",
    "        'window_size' : (4, 4),\n",
    "        'relative_pos_embedding'  : True,\n",
    "        'attn_drop_rate' : 0.2,\n",
    "        'proj_drop_rate' : 0.2, \n",
    "        'mlp_dim' : 48 * 2,\n",
    "        'batch_size' : 2,\n",
    "        'device' : device,\n",
    "        'lr': 1e-4,\n",
    "        'weight_decay' : 3e-7,\n",
    "        'nb_epochs': 10,\n",
    "    }"
   ]
  },
  {
   "cell_type": "code",
   "execution_count": 6,
   "metadata": {},
   "outputs": [],
   "source": [
    "from torch.utils.data import DataLoader\n",
    "\n",
    "\n",
    "train_dataset = CustomDataset(data = train_data, labels = train_lab)\n",
    "train_dataloader = DataLoader(train_dataset, batch_size=parameters['batch_size'], shuffle=True)\n",
    "\n",
    "val_dataset = CustomDataset(data = val_data, labels = val_lab)\n",
    "val_dataloader = DataLoader(val_dataset, batch_size=parameters['batch_size'], shuffle=True)\n"
   ]
  },
  {
   "cell_type": "code",
   "execution_count": 8,
   "metadata": {},
   "outputs": [
    {
     "name": "stdout",
     "output_type": "stream",
     "text": [
      "tensor([1., 1.], dtype=torch.float64)\n"
     ]
    }
   ],
   "source": [
    "for idx, (x,y) in zip(range(1), train_dataloader):\n",
    "    print(y)\n",
    "    "
   ]
  },
  {
   "cell_type": "code",
   "execution_count": 20,
   "metadata": {},
   "outputs": [
    {
     "data": {
      "text/plain": [
       "tensor(0.6931)"
      ]
     },
     "execution_count": 20,
     "metadata": {},
     "output_type": "execute_result"
    }
   ],
   "source": [
    "a = torch.ones(2,2)\n",
    "b = torch.ones(2)\n",
    "\n",
    "nn.CrossEntropyLoss()(a,b.long())"
   ]
  },
  {
   "cell_type": "code",
   "execution_count": 13,
   "metadata": {},
   "outputs": [
    {
     "data": {
      "text/plain": [
       "torch.float32"
      ]
     },
     "execution_count": 13,
     "metadata": {},
     "output_type": "execute_result"
    }
   ],
   "source": [
    "b.dtype"
   ]
  },
  {
   "cell_type": "code",
   "execution_count": null,
   "metadata": {},
   "outputs": [],
   "source": []
  },
  {
   "cell_type": "code",
   "execution_count": null,
   "metadata": {},
   "outputs": [],
   "source": []
  }
 ],
 "metadata": {
  "kernelspec": {
   "display_name": "base",
   "language": "python",
   "name": "python3"
  },
  "language_info": {
   "codemirror_mode": {
    "name": "ipython",
    "version": 3
   },
   "file_extension": ".py",
   "mimetype": "text/x-python",
   "name": "python",
   "nbconvert_exporter": "python",
   "pygments_lexer": "ipython3",
   "version": "3.9.13"
  },
  "orig_nbformat": 4,
  "vscode": {
   "interpreter": {
    "hash": "3a7e17b84d63e83bdf928cc5a1b8d0b05a39d792ff2f30a4d976be5195e4799e"
   }
  }
 },
 "nbformat": 4,
 "nbformat_minor": 2
}
